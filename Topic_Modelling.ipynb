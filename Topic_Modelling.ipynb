{
 "cells": [
  {
   "cell_type": "markdown",
   "metadata": {
    "id": "q69VMK5suyfo"
   },
   "source": [
    "#Tokenization using Spacy\n"
   ]
  },
  {
   "cell_type": "code",
   "execution_count": 11,
   "metadata": {
    "id": "t0OE-RlHuwFR",
    "scrolled": true
   },
   "outputs": [],
   "source": [
    "import spacy\n",
    "\n",
    "nlp = spacy.load('en_core_web_sm')"
   ]
  },
  {
   "cell_type": "code",
   "execution_count": 12,
   "metadata": {
    "id": "V1W4YCBMuv97"
   },
   "outputs": [],
   "source": [
    "text = \"Mobile phone is good but the camera is not.\""
   ]
  },
  {
   "cell_type": "code",
   "execution_count": 13,
   "metadata": {
    "id": "yS1WRhbluv6r"
   },
   "outputs": [],
   "source": [
    "doc = nlp(text)"
   ]
  },
  {
   "cell_type": "code",
   "execution_count": 14,
   "metadata": {
    "colab": {
     "base_uri": "https://localhost:8080/"
    },
    "id": "mhseb5lDuv3R",
    "outputId": "286cb542-5783-40fa-bf00-d60789ebce0a"
   },
   "outputs": [
    {
     "name": "stdout",
     "output_type": "stream",
     "text": [
      "Mobile\n",
      "phone\n",
      "is\n",
      "good\n",
      "but\n",
      "the\n",
      "camera\n",
      "is\n",
      "not\n",
      ".\n"
     ]
    }
   ],
   "source": [
    "for i in doc:\n",
    "  print(i)"
   ]
  },
  {
   "cell_type": "markdown",
   "metadata": {
    "id": "e86yoF0-vOm0"
   },
   "source": [
    "#Stop Words Removal"
   ]
  },
  {
   "cell_type": "code",
   "execution_count": 15,
   "metadata": {
    "id": "RyaHzwelvhtc"
   },
   "outputs": [],
   "source": [
    "from spacy.lang.en.stop_words import STOP_WORDS"
   ]
  },
  {
   "cell_type": "code",
   "execution_count": 16,
   "metadata": {
    "colab": {
     "base_uri": "https://localhost:8080/"
    },
    "id": "r3gJSFVFwIAw",
    "outputId": "ebffc75c-4d6e-453b-f006-be58284a17ce"
   },
   "outputs": [
    {
     "data": {
      "text/plain": [
       "326"
      ]
     },
     "execution_count": 16,
     "metadata": {},
     "output_type": "execute_result"
    }
   ],
   "source": [
    "len(STOP_WORDS)"
   ]
  },
  {
   "cell_type": "code",
   "execution_count": 17,
   "metadata": {
    "colab": {
     "base_uri": "https://localhost:8080/"
    },
    "id": "wKaDjRqPwEXC",
    "outputId": "7d2d91a9-5cf5-4086-f843-7ebc45fe2e21"
   },
   "outputs": [
    {
     "name": "stdout",
     "output_type": "stream",
     "text": [
      "{'around', 'but', 'except', \"'s\", 'whereafter', 'less', 'ours', 'put', 'often', 'his', 'alone', 'namely', 'it', 'one', 'moreover', 'has', 'further', 'become', 'bottom', 'or', 'least', 'ever', 'was', 'therein', 'that', 'there', 'would', 'themselves', 'sometime', 'nobody', 'he', 'where', 'move', 'above', 'two', 'this', 'please', '‘ve', 'few', 'might', 'their', 'otherwise', 'so', 'whenever', '’ve', 'almost', 'became', 'itself', 'never', 'last', 'cannot', 'what', 'from', 'forty', 'hereafter', 'unless', 'behind', 'together', 'whereupon', 'same', 'either', 'own', 'latter', 'formerly', 'for', 'fifteen', 'former', 'into', 'even', 'during', 'also', \"'re\", 'really', 'himself', 'than', 'well', 'before', 'more', 'must', 'full', 'her', 'a', 'whither', 'say', 'however', 'again', 'beforehand', 'is', 'hereby', 'through', 'being', 'ten', 'whom', 'rather', 'such', 'per', 'quite', 'here', 'though', 'she', 'call', 'serious', 'indeed', 'at', 'off', \"'d\", 'both', 'seems', 'four', 'keep', 'can', 'seemed', 'to', 'thence', '‘m', 'down', 'hereupon', 'you', 'sometimes', 'over', 'how', 'six', 'we', 'yourself', 'who', 'becoming', 'somehow', 'side', 'whereas', 'its', 'thereby', 'because', '’re', 'perhaps', 'n‘t', 'and', 'my', 'all', 'are', 'yet', 'against', '‘s', 'else', '’d', 'did', 'go', 'elsewhere', 'whatever', 'take', 'thus', 'afterwards', 'thereupon', 'see', 'now', 'without', '’ll', 'very', 'everything', 'him', 'neither', 'used', 'top', 'about', 'herself', 'each', 'they', 'could', 'by', 'every', 'get', 'me', 'make', 'nevertheless', 'which', 'any', 'with', 'nothing', 'be', 'nine', 'upon', 'do', 'back', 'an', 'thru', 'toward', 'none', \"'ve\", 'enough', 'done', 'some', '’s', 'hundred', 'due', 'between', 'under', \"n't\", 'other', 'yours', 'front', 'first', \"'m\", 'made', 'twelve', '’m', 'hers', 'herein', 'part', 'whereby', 'of', 'while', 'within', 'amongst', 'i', 'another', 'three', 'may', 'anywhere', '‘d', 'below', 'several', 'onto', 'give', 'besides', 'everyone', 'whoever', 'various', 'myself', 'beside', 'many', 'out', 'nor', 'not', 'why', 'us', 'nowhere', 'much', 'noone', 'up', 'them', 'doing', 'along', 'am', 'latterly', 'the', 'wherever', '‘re', 'yourselves', 'after', 'if', 'third', 'were', \"'ll\", 'whose', 'as', 'once', 'will', 'our', 'five', 'does', 'thereafter', 'just', 'have', 'these', 'show', 'eight', 'those', 'someone', 'among', 'still', 'twenty', 'since', 'everywhere', 'too', 'n’t', 'somewhere', 'then', 'in', 'anything', 'seeming', 'towards', 'seem', 'across', 'whether', 'hence', 'beyond', 'anyone', 'when', 'meanwhile', 'wherein', 'becomes', 'anyway', 'next', 'always', 'via', 'name', 'had', 'empty', 'no', 'regarding', 'until', 'your', 'using', 'throughout', 'whence', 'ourselves', '‘ll', 'ca', 'mostly', 'mine', 're', 'already', 'amount', 'only', 'anyhow', 'eleven', 'sixty', 'whole', 'fifty', 'although', 'therefore', 'something', 'been', 'others', 'most', 'should', 'on'}\n"
     ]
    }
   ],
   "source": [
    "print(STOP_WORDS)"
   ]
  },
  {
   "cell_type": "code",
   "execution_count": 18,
   "metadata": {
    "colab": {
     "base_uri": "https://localhost:8080/"
    },
    "id": "rGazO2aKvUAq",
    "outputId": "69107c94-038e-4ae2-e141-b95db9ee1604"
   },
   "outputs": [
    {
     "name": "stdout",
     "output_type": "stream",
     "text": [
      "Mobile\n",
      "phone\n",
      "good\n",
      "camera\n"
     ]
    }
   ],
   "source": [
    "for i in doc:\n",
    "  if i.is_stop !=True and i.is_punct != True:\n",
    "    print(i)"
   ]
  },
  {
   "cell_type": "markdown",
   "metadata": {
    "id": "bbJPf6ZIxxPb"
   },
   "source": [
    "#Vectorization"
   ]
  },
  {
   "cell_type": "code",
   "execution_count": 19,
   "metadata": {
    "id": "WOo9za5Tx2cQ"
   },
   "outputs": [],
   "source": [
    "from sklearn.feature_extraction.text import CountVectorizer"
   ]
  },
  {
   "cell_type": "code",
   "execution_count": 20,
   "metadata": {
    "id": "9Zf2gaJDx2VG"
   },
   "outputs": [],
   "source": [
    "vectorizer = CountVectorizer()"
   ]
  },
  {
   "cell_type": "code",
   "execution_count": 21,
   "metadata": {
    "id": "-00--gQO3cmc"
   },
   "outputs": [],
   "source": [
    "sample_text = ['Julie loves John more than Linda loves John','Jane loves John more than Julie loves John']"
   ]
  },
  {
   "cell_type": "code",
   "execution_count": 22,
   "metadata": {
    "colab": {
     "base_uri": "https://localhost:8080/"
    },
    "id": "w5de30B9x2O5",
    "outputId": "1af54cc8-7915-4b58-a478-a7a27223ca88"
   },
   "outputs": [
    {
     "data": {
      "text/plain": [
       "CountVectorizer()"
      ]
     },
     "execution_count": 22,
     "metadata": {},
     "output_type": "execute_result"
    }
   ],
   "source": [
    "vectorizer.fit(sample_text)"
   ]
  },
  {
   "cell_type": "code",
   "execution_count": 23,
   "metadata": {
    "colab": {
     "base_uri": "https://localhost:8080/"
    },
    "id": "apzekIz04Iiu",
    "outputId": "71ef0172-fb1f-410b-fe0e-3b9855389ec7"
   },
   "outputs": [
    {
     "name": "stdout",
     "output_type": "stream",
     "text": [
      "{'julie': 2, 'loves': 4, 'john': 1, 'more': 5, 'than': 6, 'linda': 3, 'jane': 0}\n"
     ]
    }
   ],
   "source": [
    "print(vectorizer.vocabulary_)"
   ]
  },
  {
   "cell_type": "code",
   "execution_count": 24,
   "metadata": {
    "id": "OTJnPZm2x2MG"
   },
   "outputs": [],
   "source": [
    "vector = vectorizer.transform(['Julie loves John more than Linda loves John'])"
   ]
  },
  {
   "cell_type": "code",
   "execution_count": 25,
   "metadata": {
    "colab": {
     "base_uri": "https://localhost:8080/"
    },
    "id": "D4eHqw_Fx2Er",
    "outputId": "de51fe74-3d4e-432a-9f7c-f18d31ec8a17"
   },
   "outputs": [
    {
     "name": "stdout",
     "output_type": "stream",
     "text": [
      "  (0, 1)\t2\n",
      "  (0, 2)\t1\n",
      "  (0, 3)\t1\n",
      "  (0, 4)\t2\n",
      "  (0, 5)\t1\n",
      "  (0, 6)\t1\n"
     ]
    }
   ],
   "source": [
    "print(vector)"
   ]
  },
  {
   "cell_type": "code",
   "execution_count": 26,
   "metadata": {
    "id": "LUUX3PxR9MxE"
   },
   "outputs": [],
   "source": [
    "from sklearn.feature_extraction.text import TfidfVectorizer"
   ]
  },
  {
   "cell_type": "code",
   "execution_count": 27,
   "metadata": {
    "id": "sb2mMMO39NrY"
   },
   "outputs": [],
   "source": [
    "tfvectorizer = TfidfVectorizer()"
   ]
  },
  {
   "cell_type": "code",
   "execution_count": 28,
   "metadata": {
    "colab": {
     "base_uri": "https://localhost:8080/"
    },
    "id": "YuplmVj-9TMG",
    "outputId": "e43077e0-0e97-43d2-ef23-bc902d7fe0a3"
   },
   "outputs": [
    {
     "data": {
      "text/plain": [
       "TfidfVectorizer()"
      ]
     },
     "execution_count": 28,
     "metadata": {},
     "output_type": "execute_result"
    }
   ],
   "source": [
    "tfvectorizer.fit(sample_text)"
   ]
  },
  {
   "cell_type": "code",
   "execution_count": 29,
   "metadata": {
    "colab": {
     "base_uri": "https://localhost:8080/"
    },
    "id": "CvjNWlJk9Xaj",
    "outputId": "dd5232af-dac2-4d20-dfbc-b527004a3805"
   },
   "outputs": [
    {
     "data": {
      "text/plain": [
       "{'julie': 2,\n",
       " 'loves': 4,\n",
       " 'john': 1,\n",
       " 'more': 5,\n",
       " 'than': 6,\n",
       " 'linda': 3,\n",
       " 'jane': 0}"
      ]
     },
     "execution_count": 29,
     "metadata": {},
     "output_type": "execute_result"
    }
   ],
   "source": [
    "tfvectorizer.vocabulary_"
   ]
  },
  {
   "cell_type": "code",
   "execution_count": 30,
   "metadata": {
    "id": "efQOIJci9dJ5"
   },
   "outputs": [],
   "source": [
    "vector1 = tfvectorizer.transform(['Julie loves John more than Linda loves John'])"
   ]
  },
  {
   "cell_type": "code",
   "execution_count": 31,
   "metadata": {
    "colab": {
     "base_uri": "https://localhost:8080/"
    },
    "id": "e3yDjJK59kdm",
    "outputId": "341c7509-48fd-46e3-e896-c5923fe0ad8f"
   },
   "outputs": [
    {
     "name": "stdout",
     "output_type": "stream",
     "text": [
      "  (0, 6)\t0.2776136126156931\n",
      "  (0, 5)\t0.2776136126156931\n",
      "  (0, 4)\t0.5552272252313862\n",
      "  (0, 3)\t0.39017624606721324\n",
      "  (0, 2)\t0.2776136126156931\n",
      "  (0, 1)\t0.5552272252313862\n"
     ]
    }
   ],
   "source": [
    "print(vector1)"
   ]
  },
  {
   "cell_type": "code",
   "execution_count": 32,
   "metadata": {
    "colab": {
     "base_uri": "https://localhost:8080/"
    },
    "id": "sREppFa69p4W",
    "outputId": "abc45265-9beb-4ab2-f657-5c1731086dcd"
   },
   "outputs": [
    {
     "name": "stdout",
     "output_type": "stream",
     "text": [
      "  (0, 1)\t2\n",
      "  (0, 2)\t1\n",
      "  (0, 3)\t1\n",
      "  (0, 4)\t2\n",
      "  (0, 5)\t1\n",
      "  (0, 6)\t1\n"
     ]
    }
   ],
   "source": [
    "print(vector)"
   ]
  },
  {
   "cell_type": "markdown",
   "metadata": {
    "id": "MZt7k2to_LN1"
   },
   "source": [
    "## Topic Modeling Using LDA"
   ]
  },
  {
   "cell_type": "code",
   "execution_count": 37,
   "metadata": {
    "id": "pZ_eSa-__LN5"
   },
   "outputs": [
    {
     "name": "stderr",
     "output_type": "stream",
     "text": [
      "C:\\Users\\Shreyas M P\\anaconda3\\lib\\site-packages\\gensim\\similarities\\__init__.py:15: UserWarning: The gensim.similarities.levenshtein submodule is disabled, because the optional Levenshtein package <https://pypi.org/project/python-Levenshtein/> is unavailable. Install Levenhstein (e.g. `pip install python-Levenshtein`) to suppress this warning.\n",
      "  warnings.warn(msg)\n"
     ]
    }
   ],
   "source": [
    "import spacy\n",
    "nlp = spacy.load('en_core_web_sm')\n",
    "\n",
    "import gensim\n",
    "\n",
    "import pandas as pd\n",
    "from gensim import corpora\n",
    "\n",
    "import re"
   ]
  },
  {
   "cell_type": "code",
   "execution_count": 38,
   "metadata": {
    "id": "_ESeAgpD_LOA"
   },
   "outputs": [],
   "source": [
    "nlp.vocab['star'].is_stop = True\n",
    "nlp.vocab['stars'].is_stop = True\n",
    "nlp.vocab['good'].is_stop = True"
   ]
  },
  {
   "cell_type": "code",
   "execution_count": 39,
   "metadata": {
    "id": "CFj8Qsjp_LOF"
   },
   "outputs": [],
   "source": [
    "#pandas\n",
    "reviews = pd.read_csv('Flipkart_ratings.csv')"
   ]
  },
  {
   "cell_type": "code",
   "execution_count": 40,
   "metadata": {
    "id": "Q8a0CWLw_LOK"
   },
   "outputs": [],
   "source": [
    "#pandas\n",
    "reviews['star_rating'] = reviews['star_rating'].apply(lambda x:1 if x > 4 else 0)"
   ]
  },
  {
   "cell_type": "code",
   "execution_count": 41,
   "metadata": {
    "colab": {
     "base_uri": "https://localhost:8080/"
    },
    "id": "tmZedVKx_LOP",
    "outputId": "dca51c71-4d5f-4895-dc9c-07d23dba86d5"
   },
   "outputs": [
    {
     "name": "stdout",
     "output_type": "stream",
     "text": [
      "2082\n"
     ]
    }
   ],
   "source": [
    "#pandas\n",
    "negative_sentiments = reviews[reviews['star_rating'] == 0]\n",
    "print(negative_sentiments.shape[0])"
   ]
  },
  {
   "cell_type": "code",
   "execution_count": 42,
   "metadata": {
    "id": "VXtL25dZ_LOY"
   },
   "outputs": [
    {
     "name": "stderr",
     "output_type": "stream",
     "text": [
      "<ipython-input-42-0738162f2a71>:2: SettingWithCopyWarning: \n",
      "A value is trying to be set on a copy of a slice from a DataFrame.\n",
      "Try using .loc[row_indexer,col_indexer] = value instead\n",
      "\n",
      "See the caveats in the documentation: https://pandas.pydata.org/pandas-docs/stable/user_guide/indexing.html#returning-a-view-versus-a-copy\n",
      "  negative_sentiments['Final review'] = negative_sentiments['review_headline'] + ' ' + negative_sentiments['review_body']\n",
      "<ipython-input-42-0738162f2a71>:3: FutureWarning: The default value of regex will change from True to False in a future version.\n",
      "  negative_sentiments['Final review'] = negative_sentiments['Final review'].str.replace(\"[^a-zA-Z#]\", \" \")\n",
      "<ipython-input-42-0738162f2a71>:3: SettingWithCopyWarning: \n",
      "A value is trying to be set on a copy of a slice from a DataFrame.\n",
      "Try using .loc[row_indexer,col_indexer] = value instead\n",
      "\n",
      "See the caveats in the documentation: https://pandas.pydata.org/pandas-docs/stable/user_guide/indexing.html#returning-a-view-versus-a-copy\n",
      "  negative_sentiments['Final review'] = negative_sentiments['Final review'].str.replace(\"[^a-zA-Z#]\", \" \")\n"
     ]
    }
   ],
   "source": [
    "#pandas\n",
    "negative_sentiments['Final review'] = negative_sentiments['review_headline'] + ' ' + negative_sentiments['review_body']\n",
    "negative_sentiments['Final review'] = negative_sentiments['Final review'].str.replace(\"[^a-zA-Z#]\", \" \")"
   ]
  },
  {
   "cell_type": "code",
   "execution_count": 43,
   "metadata": {
    "id": "u7FiHazFGS4K"
   },
   "outputs": [],
   "source": [
    "#pandas\n",
    "negative_sentiments = negative_sentiments.dropna()"
   ]
  },
  {
   "cell_type": "code",
   "execution_count": 44,
   "metadata": {
    "id": "Rnu1Ci1v_LOe"
   },
   "outputs": [
    {
     "name": "stderr",
     "output_type": "stream",
     "text": [
      "C:\\Users\\Shreyas M P\\anaconda3\\lib\\site-packages\\pandas\\core\\indexing.py:1637: SettingWithCopyWarning: \n",
      "A value is trying to be set on a copy of a slice from a DataFrame\n",
      "\n",
      "See the caveats in the documentation: https://pandas.pydata.org/pandas-docs/stable/user_guide/indexing.html#returning-a-view-versus-a-copy\n",
      "  self._setitem_single_block(indexer, value, name)\n"
     ]
    }
   ],
   "source": [
    "#tokenization, stop words removal\n",
    "negative_sentiments['Final Text'] = ''\n",
    "for i in range(negative_sentiments.shape[0]):\n",
    "    temp = []\n",
    "    document = nlp(negative_sentiments['Final review'].iloc[i].lower())\n",
    "    for j in document:\n",
    "        if j.is_stop!=True and j.is_punct!=True:\n",
    "            temp.append(j.lemma_)\n",
    "    negative_sentiments['Final Text'].iloc[i] = temp\n"
   ]
  },
  {
   "cell_type": "code",
   "execution_count": 45,
   "metadata": {
    "id": "ZnOZn2P7_LOi"
   },
   "outputs": [],
   "source": [
    "#vectoriazation and topic modeling \n",
    "def topic_modelling(text):\n",
    "    dictionary = corpora.Dictionary(text)\n",
    "    doc_term_matrix = [dictionary.doc2bow(rev) for rev in text]\n",
    "    LDA = gensim.models.ldamodel.LdaModel\n",
    "    lda_model = LDA(corpus = doc_term_matrix, id2word = dictionary, \n",
    "                    num_topics = 1, random_state = 19, passes = 50)\n",
    "    temp = re.findall('[a-z]*',lda_model.print_topics()[0][1])\n",
    "    tags = [x for x in temp if x]\n",
    "    return tags"
   ]
  },
  {
   "cell_type": "code",
   "execution_count": 46,
   "metadata": {
    "id": "1bweIb8d_LOo"
   },
   "outputs": [
    {
     "data": {
      "text/html": [
       "<div>\n",
       "<style scoped>\n",
       "    .dataframe tbody tr th:only-of-type {\n",
       "        vertical-align: middle;\n",
       "    }\n",
       "\n",
       "    .dataframe tbody tr th {\n",
       "        vertical-align: top;\n",
       "    }\n",
       "\n",
       "    .dataframe thead th {\n",
       "        text-align: right;\n",
       "    }\n",
       "</style>\n",
       "<table border=\"1\" class=\"dataframe\">\n",
       "  <thead>\n",
       "    <tr style=\"text-align: right;\">\n",
       "      <th></th>\n",
       "      <th>marketplace</th>\n",
       "      <th>customer_id</th>\n",
       "      <th>review_id</th>\n",
       "      <th>product_title</th>\n",
       "      <th>product_category</th>\n",
       "      <th>star_rating</th>\n",
       "      <th>helpful_votes</th>\n",
       "      <th>total_votes</th>\n",
       "      <th>vine</th>\n",
       "      <th>verified_purchase</th>\n",
       "      <th>review_headline</th>\n",
       "      <th>review_body</th>\n",
       "      <th>review_date</th>\n",
       "      <th>Final review</th>\n",
       "      <th>Final Text</th>\n",
       "    </tr>\n",
       "  </thead>\n",
       "  <tbody>\n",
       "    <tr>\n",
       "      <th>0</th>\n",
       "      <td>US</td>\n",
       "      <td>41099022</td>\n",
       "      <td>R59VGL4HIPFDP</td>\n",
       "      <td>Foscam FI8910W Wireless/Wired Pan &amp; Tilt IP/Ne...</td>\n",
       "      <td>Camera</td>\n",
       "      <td>0</td>\n",
       "      <td>0</td>\n",
       "      <td>1</td>\n",
       "      <td>N</td>\n",
       "      <td>Y</td>\n",
       "      <td>One Star</td>\n",
       "      <td>garbage</td>\n",
       "      <td>31-08-2015</td>\n",
       "      <td>One Star garbage</td>\n",
       "      <td>garbage</td>\n",
       "    </tr>\n",
       "    <tr>\n",
       "      <th>1</th>\n",
       "      <td>US</td>\n",
       "      <td>15744366</td>\n",
       "      <td>R3GR0Z9Z4Z1295</td>\n",
       "      <td>Foscam FI8910W Wireless/Wired Pan &amp; Tilt IP/Ne...</td>\n",
       "      <td>Camera</td>\n",
       "      <td>0</td>\n",
       "      <td>0</td>\n",
       "      <td>0</td>\n",
       "      <td>N</td>\n",
       "      <td>N</td>\n",
       "      <td>Doesn't work as advertised</td>\n",
       "      <td>Didn't work as advertised, there was no sound ...</td>\n",
       "      <td>31-08-2015</td>\n",
       "      <td>Doesn t work as advertised Didn t work as adve...</td>\n",
       "      <td>doesn t work advertised didn t work advertise ...</td>\n",
       "    </tr>\n",
       "    <tr>\n",
       "      <th>2</th>\n",
       "      <td>US</td>\n",
       "      <td>46165193</td>\n",
       "      <td>R8R09HXXQHIWN</td>\n",
       "      <td>Foscam FI8910W Wireless/Wired Pan &amp; Tilt IP/Ne...</td>\n",
       "      <td>Camera</td>\n",
       "      <td>0</td>\n",
       "      <td>0</td>\n",
       "      <td>0</td>\n",
       "      <td>N</td>\n",
       "      <td>Y</td>\n",
       "      <td>One Star</td>\n",
       "      <td>Setup way to complicated for the average user.</td>\n",
       "      <td>30-08-2015</td>\n",
       "      <td>One Star Setup way to complicated for the aver...</td>\n",
       "      <td>setup way complicate average user</td>\n",
       "    </tr>\n",
       "    <tr>\n",
       "      <th>4</th>\n",
       "      <td>US</td>\n",
       "      <td>52865176</td>\n",
       "      <td>R2SCARC7V2J64P</td>\n",
       "      <td>Foscam FI8910W Wireless/Wired Pan &amp; Tilt IP/Ne...</td>\n",
       "      <td>Camera</td>\n",
       "      <td>0</td>\n",
       "      <td>0</td>\n",
       "      <td>0</td>\n",
       "      <td>N</td>\n",
       "      <td>N</td>\n",
       "      <td>Saved Grandma but camera died after 2 yrs</td>\n",
       "      <td>Worked for 2 yrs as a 'granny cam' and saved h...</td>\n",
       "      <td>29-08-2015</td>\n",
       "      <td>Saved Grandma but camera died after   yrs Work...</td>\n",
       "      <td>save grandma camera die    yr work    yrs   gr...</td>\n",
       "    </tr>\n",
       "    <tr>\n",
       "      <th>5</th>\n",
       "      <td>US</td>\n",
       "      <td>3282316</td>\n",
       "      <td>R10WZ8I85SRCMK</td>\n",
       "      <td>Foscam FI8910W Wireless/Wired Pan &amp; Tilt IP/Ne...</td>\n",
       "      <td>Camera</td>\n",
       "      <td>0</td>\n",
       "      <td>0</td>\n",
       "      <td>0</td>\n",
       "      <td>N</td>\n",
       "      <td>Y</td>\n",
       "      <td>get what you pay for</td>\n",
       "      <td>I bought this with reading all these reviews,I...</td>\n",
       "      <td>28-08-2015</td>\n",
       "      <td>get what you pay for I bought this with readin...</td>\n",
       "      <td>pay buy read review want mainly dog day securi...</td>\n",
       "    </tr>\n",
       "  </tbody>\n",
       "</table>\n",
       "</div>"
      ],
      "text/plain": [
       "  marketplace  customer_id       review_id  \\\n",
       "0          US     41099022   R59VGL4HIPFDP   \n",
       "1          US     15744366  R3GR0Z9Z4Z1295   \n",
       "2          US     46165193   R8R09HXXQHIWN   \n",
       "4          US     52865176  R2SCARC7V2J64P   \n",
       "5          US      3282316  R10WZ8I85SRCMK   \n",
       "\n",
       "                                       product_title product_category  \\\n",
       "0  Foscam FI8910W Wireless/Wired Pan & Tilt IP/Ne...           Camera   \n",
       "1  Foscam FI8910W Wireless/Wired Pan & Tilt IP/Ne...           Camera   \n",
       "2  Foscam FI8910W Wireless/Wired Pan & Tilt IP/Ne...           Camera   \n",
       "4  Foscam FI8910W Wireless/Wired Pan & Tilt IP/Ne...           Camera   \n",
       "5  Foscam FI8910W Wireless/Wired Pan & Tilt IP/Ne...           Camera   \n",
       "\n",
       "   star_rating  helpful_votes  total_votes vine verified_purchase  \\\n",
       "0            0              0            1    N                 Y   \n",
       "1            0              0            0    N                 N   \n",
       "2            0              0            0    N                 Y   \n",
       "4            0              0            0    N                 N   \n",
       "5            0              0            0    N                 Y   \n",
       "\n",
       "                             review_headline  \\\n",
       "0                                   One Star   \n",
       "1                 Doesn't work as advertised   \n",
       "2                                   One Star   \n",
       "4  Saved Grandma but camera died after 2 yrs   \n",
       "5                       get what you pay for   \n",
       "\n",
       "                                         review_body review_date  \\\n",
       "0                                            garbage  31-08-2015   \n",
       "1  Didn't work as advertised, there was no sound ...  31-08-2015   \n",
       "2     Setup way to complicated for the average user.  30-08-2015   \n",
       "4  Worked for 2 yrs as a 'granny cam' and saved h...  29-08-2015   \n",
       "5  I bought this with reading all these reviews,I...  28-08-2015   \n",
       "\n",
       "                                        Final review  \\\n",
       "0                                   One Star garbage   \n",
       "1  Doesn t work as advertised Didn t work as adve...   \n",
       "2  One Star Setup way to complicated for the aver...   \n",
       "4  Saved Grandma but camera died after   yrs Work...   \n",
       "5  get what you pay for I bought this with readin...   \n",
       "\n",
       "                                          Final Text  \n",
       "0                                            garbage  \n",
       "1  doesn t work advertised didn t work advertise ...  \n",
       "2                  setup way complicate average user  \n",
       "4  save grandma camera die    yr work    yrs   gr...  \n",
       "5  pay buy read review want mainly dog day securi...  "
      ]
     },
     "execution_count": 46,
     "metadata": {},
     "output_type": "execute_result"
    }
   ],
   "source": [
    "#pandas\n",
    "negative_sentiments['Final Text'] = negative_sentiments['Final Text'].apply(lambda x:' '.join(x))\n",
    "negative_sentiments.head()"
   ]
  },
  {
   "cell_type": "code",
   "execution_count": 48,
   "metadata": {
    "id": "YTK8vZAZ_LOw"
   },
   "outputs": [
    {
     "data": {
      "text/html": [
       "<div>\n",
       "<style scoped>\n",
       "    .dataframe tbody tr th:only-of-type {\n",
       "        vertical-align: middle;\n",
       "    }\n",
       "\n",
       "    .dataframe tbody tr th {\n",
       "        vertical-align: top;\n",
       "    }\n",
       "\n",
       "    .dataframe thead th {\n",
       "        text-align: right;\n",
       "    }\n",
       "</style>\n",
       "<table border=\"1\" class=\"dataframe\">\n",
       "  <thead>\n",
       "    <tr style=\"text-align: right;\">\n",
       "      <th></th>\n",
       "      <th>marketplace</th>\n",
       "      <th>customer_id</th>\n",
       "      <th>review_id</th>\n",
       "      <th>product_title</th>\n",
       "      <th>product_category</th>\n",
       "      <th>star_rating</th>\n",
       "      <th>helpful_votes</th>\n",
       "      <th>total_votes</th>\n",
       "      <th>vine</th>\n",
       "      <th>verified_purchase</th>\n",
       "      <th>review_headline</th>\n",
       "      <th>review_body</th>\n",
       "      <th>review_date</th>\n",
       "      <th>Final review</th>\n",
       "      <th>Final Text</th>\n",
       "      <th>Review Tags</th>\n",
       "    </tr>\n",
       "  </thead>\n",
       "  <tbody>\n",
       "    <tr>\n",
       "      <th>0</th>\n",
       "      <td>US</td>\n",
       "      <td>41099022</td>\n",
       "      <td>R59VGL4HIPFDP</td>\n",
       "      <td>Foscam FI8910W Wireless/Wired Pan &amp; Tilt IP/Ne...</td>\n",
       "      <td>Camera</td>\n",
       "      <td>0</td>\n",
       "      <td>0</td>\n",
       "      <td>1</td>\n",
       "      <td>N</td>\n",
       "      <td>Y</td>\n",
       "      <td>One Star</td>\n",
       "      <td>garbage</td>\n",
       "      <td>31-08-2015</td>\n",
       "      <td>One Star garbage</td>\n",
       "      <td>garbage</td>\n",
       "      <td>[garbage]</td>\n",
       "    </tr>\n",
       "    <tr>\n",
       "      <th>1</th>\n",
       "      <td>US</td>\n",
       "      <td>15744366</td>\n",
       "      <td>R3GR0Z9Z4Z1295</td>\n",
       "      <td>Foscam FI8910W Wireless/Wired Pan &amp; Tilt IP/Ne...</td>\n",
       "      <td>Camera</td>\n",
       "      <td>0</td>\n",
       "      <td>0</td>\n",
       "      <td>0</td>\n",
       "      <td>N</td>\n",
       "      <td>N</td>\n",
       "      <td>Doesn't work as advertised</td>\n",
       "      <td>Didn't work as advertised, there was no sound ...</td>\n",
       "      <td>31-08-2015</td>\n",
       "      <td>Doesn t work as advertised Didn t work as adve...</td>\n",
       "      <td>doesn t work advertised didn t work advertise ...</td>\n",
       "      <td>[t, work, return, sound, record, refund, adver...</td>\n",
       "    </tr>\n",
       "    <tr>\n",
       "      <th>2</th>\n",
       "      <td>US</td>\n",
       "      <td>46165193</td>\n",
       "      <td>R8R09HXXQHIWN</td>\n",
       "      <td>Foscam FI8910W Wireless/Wired Pan &amp; Tilt IP/Ne...</td>\n",
       "      <td>Camera</td>\n",
       "      <td>0</td>\n",
       "      <td>0</td>\n",
       "      <td>0</td>\n",
       "      <td>N</td>\n",
       "      <td>Y</td>\n",
       "      <td>One Star</td>\n",
       "      <td>Setup way to complicated for the average user.</td>\n",
       "      <td>30-08-2015</td>\n",
       "      <td>One Star Setup way to complicated for the aver...</td>\n",
       "      <td>setup way complicate average user</td>\n",
       "      <td>[average, complicate, setup, user, way]</td>\n",
       "    </tr>\n",
       "    <tr>\n",
       "      <th>4</th>\n",
       "      <td>US</td>\n",
       "      <td>52865176</td>\n",
       "      <td>R2SCARC7V2J64P</td>\n",
       "      <td>Foscam FI8910W Wireless/Wired Pan &amp; Tilt IP/Ne...</td>\n",
       "      <td>Camera</td>\n",
       "      <td>0</td>\n",
       "      <td>0</td>\n",
       "      <td>0</td>\n",
       "      <td>N</td>\n",
       "      <td>N</td>\n",
       "      <td>Saved Grandma but camera died after 2 yrs</td>\n",
       "      <td>Worked for 2 yrs as a 'granny cam' and saved h...</td>\n",
       "      <td>29-08-2015</td>\n",
       "      <td>Saved Grandma but camera died after   yrs Work...</td>\n",
       "      <td>save grandma camera die    yr work    yrs   gr...</td>\n",
       "      <td>[camera, yrs, yr, save, die, reasonable, provi...</td>\n",
       "    </tr>\n",
       "    <tr>\n",
       "      <th>5</th>\n",
       "      <td>US</td>\n",
       "      <td>3282316</td>\n",
       "      <td>R10WZ8I85SRCMK</td>\n",
       "      <td>Foscam FI8910W Wireless/Wired Pan &amp; Tilt IP/Ne...</td>\n",
       "      <td>Camera</td>\n",
       "      <td>0</td>\n",
       "      <td>0</td>\n",
       "      <td>0</td>\n",
       "      <td>N</td>\n",
       "      <td>Y</td>\n",
       "      <td>get what you pay for</td>\n",
       "      <td>I bought this with reading all these reviews,I...</td>\n",
       "      <td>28-08-2015</td>\n",
       "      <td>get what you pay for I bought this with readin...</td>\n",
       "      <td>pay buy read review want mainly dog day securi...</td>\n",
       "      <td>[review, wonder, wifi, want, t, stop, show, se...</td>\n",
       "    </tr>\n",
       "  </tbody>\n",
       "</table>\n",
       "</div>"
      ],
      "text/plain": [
       "  marketplace  customer_id       review_id  \\\n",
       "0          US     41099022   R59VGL4HIPFDP   \n",
       "1          US     15744366  R3GR0Z9Z4Z1295   \n",
       "2          US     46165193   R8R09HXXQHIWN   \n",
       "4          US     52865176  R2SCARC7V2J64P   \n",
       "5          US      3282316  R10WZ8I85SRCMK   \n",
       "\n",
       "                                       product_title product_category  \\\n",
       "0  Foscam FI8910W Wireless/Wired Pan & Tilt IP/Ne...           Camera   \n",
       "1  Foscam FI8910W Wireless/Wired Pan & Tilt IP/Ne...           Camera   \n",
       "2  Foscam FI8910W Wireless/Wired Pan & Tilt IP/Ne...           Camera   \n",
       "4  Foscam FI8910W Wireless/Wired Pan & Tilt IP/Ne...           Camera   \n",
       "5  Foscam FI8910W Wireless/Wired Pan & Tilt IP/Ne...           Camera   \n",
       "\n",
       "   star_rating  helpful_votes  total_votes vine verified_purchase  \\\n",
       "0            0              0            1    N                 Y   \n",
       "1            0              0            0    N                 N   \n",
       "2            0              0            0    N                 Y   \n",
       "4            0              0            0    N                 N   \n",
       "5            0              0            0    N                 Y   \n",
       "\n",
       "                             review_headline  \\\n",
       "0                                   One Star   \n",
       "1                 Doesn't work as advertised   \n",
       "2                                   One Star   \n",
       "4  Saved Grandma but camera died after 2 yrs   \n",
       "5                       get what you pay for   \n",
       "\n",
       "                                         review_body review_date  \\\n",
       "0                                            garbage  31-08-2015   \n",
       "1  Didn't work as advertised, there was no sound ...  31-08-2015   \n",
       "2     Setup way to complicated for the average user.  30-08-2015   \n",
       "4  Worked for 2 yrs as a 'granny cam' and saved h...  29-08-2015   \n",
       "5  I bought this with reading all these reviews,I...  28-08-2015   \n",
       "\n",
       "                                        Final review  \\\n",
       "0                                   One Star garbage   \n",
       "1  Doesn t work as advertised Didn t work as adve...   \n",
       "2  One Star Setup way to complicated for the aver...   \n",
       "4  Saved Grandma but camera died after   yrs Work...   \n",
       "5  get what you pay for I bought this with readin...   \n",
       "\n",
       "                                          Final Text  \\\n",
       "0                                            garbage   \n",
       "1  doesn t work advertised didn t work advertise ...   \n",
       "2                  setup way complicate average user   \n",
       "4  save grandma camera die    yr work    yrs   gr...   \n",
       "5  pay buy read review want mainly dog day securi...   \n",
       "\n",
       "                                         Review Tags  \n",
       "0                                          [garbage]  \n",
       "1  [t, work, return, sound, record, refund, adver...  \n",
       "2            [average, complicate, setup, user, way]  \n",
       "4  [camera, yrs, yr, save, die, reasonable, provi...  \n",
       "5  [review, wonder, wifi, want, t, stop, show, se...  "
      ]
     },
     "execution_count": 48,
     "metadata": {},
     "output_type": "execute_result"
    }
   ],
   "source": [
    "#pandas\n",
    "negative_sentiments['Review Tags'] = negative_sentiments['Final Text'].apply(lambda x: topic_modelling([x.split(' ')]))\n",
    "negative_sentiments.head()"
   ]
  },
  {
   "cell_type": "code",
   "execution_count": 49,
   "metadata": {
    "id": "hApRSf1v_LO4"
   },
   "outputs": [
    {
     "data": {
      "text/plain": [
       "['garbage',\n",
       " 't',\n",
       " 'work',\n",
       " 'return',\n",
       " 'sound',\n",
       " 'record',\n",
       " 'refund',\n",
       " 'advertised',\n",
       " 'didn',\n",
       " 'advertise',\n",
       " 'average',\n",
       " 'complicate',\n",
       " 'setup',\n",
       " 'user',\n",
       " 'way',\n",
       " 'camera',\n",
       " 'yrs',\n",
       " 'yr',\n",
       " 'save',\n",
       " 'die',\n",
       " 'reasonable',\n",
       " 'provide',\n",
       " 'robust',\n",
       " 'remotely',\n",
       " 'review',\n",
       " 'wonder',\n",
       " 'wifi',\n",
       " 'want',\n",
       " 't',\n",
       " 'stop',\n",
       " 'show',\n",
       " 'set',\n",
       " 'security',\n",
       " 'money',\n",
       " 'waste',\n",
       " 'unreliable',\n",
       " 'unbelievably',\n",
       " 'totally',\n",
       " 's',\n",
       " 'impossible',\n",
       " 'consistently',\n",
       " 'completely',\n",
       " 'ac',\n",
       " 'adapter',\n",
       " 'die',\n",
       " 'year',\n",
       " 'work',\n",
       " 'night',\n",
       " 'kid',\n",
       " 'monitor',\n",
       " 'wake',\n",
       " 'click',\n",
       " 'ok',\n",
       " 'aware',\n",
       " 'loudly',\n",
       " 'set',\n",
       " 'hour',\n",
       " 'device',\n",
       " 'attempt',\n",
       " 'want',\n",
       " 'silly',\n",
       " 'setup',\n",
       " 'simple',\n",
       " 'spend',\n",
       " 'remote',\n",
       " 'br',\n",
       " 'model',\n",
       " 't',\n",
       " 'buy',\n",
       " 'new',\n",
       " 'lack',\n",
       " 'hour',\n",
       " 'purchase',\n",
       " 'price',\n",
       " 'work',\n",
       " 'connect',\n",
       " 'didn',\n",
       " 'forget',\n",
       " 'send',\n",
       " 't',\n",
       " 'camera',\n",
       " 'long',\n",
       " 'work',\n",
       " 'foscams',\n",
       " 'set',\n",
       " 'great',\n",
       " 't',\n",
       " 'don',\n",
       " 'die',\n",
       " 'set',\n",
       " 'pain',\n",
       " 'link',\n",
       " 'd',\n",
       " 'camera',\n",
       " 'product',\n",
       " 'return',\n",
       " 'plug',\n",
       " 'require',\n",
       " 'camera',\n",
       " 'light',\n",
       " 'reboot',\n",
       " 'sensor',\n",
       " 'freeze',\n",
       " 'update',\n",
       " 'bright',\n",
       " 'problem',\n",
       " 'recommend',\n",
       " 'set',\n",
       " 'window',\n",
       " 'time',\n",
       " 'spend',\n",
       " 'way',\n",
       " 'try',\n",
       " 'play',\n",
       " 'n',\n",
       " 'plug',\n",
       " 'end',\n",
       " 'software',\n",
       " 'high',\n",
       " 'set',\n",
       " 'able',\n",
       " 'home',\n",
       " 'interface',\n",
       " 'hardware',\n",
       " 'low',\n",
       " 't',\n",
       " 'cut',\n",
       " 'work',\n",
       " 'thing',\n",
       " 'think',\n",
       " 'saving',\n",
       " 'anymore',\n",
       " 'terrible',\n",
       " 'previous',\n",
       " 'access',\n",
       " 'set',\n",
       " 'reconnect',\n",
       " 'reboot',\n",
       " 'password',\n",
       " 'occasionally',\n",
       " 'note',\n",
       " 'netowrk',\n",
       " 'multiple',\n",
       " 'set',\n",
       " 'computer',\n",
       " 'finally',\n",
       " 'foscam',\n",
       " 'great',\n",
       " 'screen',\n",
       " 'share',\n",
       " 'work',\n",
       " 'complicated',\n",
       " 'buy',\n",
       " 'money',\n",
       " 'thank',\n",
       " 't',\n",
       " 'send',\n",
       " 'reset',\n",
       " 'poorly',\n",
       " 'headache',\n",
       " 'don',\n",
       " 'problem',\n",
       " 'foscam',\n",
       " 'work',\n",
       " 'tenvi',\n",
       " 'product',\n",
       " 'fix',\n",
       " 'choose',\n",
       " 'bad',\n",
       " 'choice',\n",
       " 'item',\n",
       " 'new',\n",
       " 'open',\n",
       " 'play',\n",
       " 'plug',\n",
       " 'mistake',\n",
       " 'price',\n",
       " 'think',\n",
       " 'set',\n",
       " 'camera',\n",
       " 'br',\n",
       " 'swann',\n",
       " 'use',\n",
       " 'phone',\n",
       " 'monitor',\n",
       " 'great',\n",
       " 'foscam',\n",
       " 'wifi',\n",
       " 'suck',\n",
       " 'job',\n",
       " 'setup',\n",
       " 'product',\n",
       " 'play',\n",
       " 'great',\n",
       " 'difficult',\n",
       " 'router',\n",
       " 't',\n",
       " 'suggest',\n",
       " 'work',\n",
       " 'camera',\n",
       " 'alert',\n",
       " 'use',\n",
       " 'mail',\n",
       " 'garage',\n",
       " 'e',\n",
       " 'indoor',\n",
       " 'button',\n",
       " 'work',\n",
       " 'far',\n",
       " 'night',\n",
       " 'product',\n",
       " 'update',\n",
       " 'vision',\n",
       " 'computer',\n",
       " 'work',\n",
       " 'picture',\n",
       " 'wo',\n",
       " 'wire',\n",
       " 'wifi',\n",
       " 'science',\n",
       " 'savvy',\n",
       " 'problem',\n",
       " 'camera',\n",
       " 'network',\n",
       " 't',\n",
       " 'switch',\n",
       " 'software',\n",
       " 'power',\n",
       " 'aquire',\n",
       " 'outage',\n",
       " 'connectivity',\n",
       " 'doesn',\n",
       " 'camera',\n",
       " 'help',\n",
       " 'morgan',\n",
       " 'set',\n",
       " 'terry',\n",
       " 'tremendously',\n",
       " 'camera',\n",
       " 'br',\n",
       " 'view',\n",
       " 'setup',\n",
       " 'video',\n",
       " 'set',\n",
       " 'site',\n",
       " 'purchase',\n",
       " 'home',\n",
       " 'light',\n",
       " 'make',\n",
       " 'camera',\n",
       " 'change',\n",
       " 'room',\n",
       " 'money',\n",
       " 'lot',\n",
       " 'ip',\n",
       " 'thing',\n",
       " 't',\n",
       " 'don',\n",
       " 'tell',\n",
       " 'job',\n",
       " 'decent',\n",
       " 'work',\n",
       " 'win',\n",
       " 'check',\n",
       " 'use',\n",
       " 'camera',\n",
       " 'tech',\n",
       " 'house',\n",
       " 'set',\n",
       " 't',\n",
       " 'view',\n",
       " 'install',\n",
       " 'friendly',\n",
       " 'user',\n",
       " 'br',\n",
       " 'warranty',\n",
       " 'camera',\n",
       " 'adapter',\n",
       " 'power',\n",
       " 'year',\n",
       " 'fail',\n",
       " 'manufacturer',\n",
       " 'replacement',\n",
       " 'br',\n",
       " 'video',\n",
       " 'hardware',\n",
       " 'user',\n",
       " 'software',\n",
       " 'design',\n",
       " 'set',\n",
       " 'decent',\n",
       " 'need',\n",
       " 'work',\n",
       " 'camera',\n",
       " 'need',\n",
       " 'web',\n",
       " 'great',\n",
       " 'foscam',\n",
       " 'nicely',\n",
       " 'screen',\n",
       " 'easy',\n",
       " 'camera',\n",
       " 'router',\n",
       " 'remotely',\n",
       " 'finally',\n",
       " 't',\n",
       " 'hassle',\n",
       " 'instruction',\n",
       " 'br',\n",
       " 'port',\n",
       " 'iris',\n",
       " 's',\n",
       " 'remotely',\n",
       " 'quick',\n",
       " 'nice',\n",
       " 'look',\n",
       " 'log',\n",
       " 'device',\n",
       " 'camera',\n",
       " 'ip',\n",
       " 'work',\n",
       " 'instead',\n",
       " 'address',\n",
       " 'great',\n",
       " 'hd',\n",
       " 'br',\n",
       " 's',\n",
       " 've',\n",
       " 've',\n",
       " 'move',\n",
       " 'product',\n",
       " 'year',\n",
       " 'fantastic',\n",
       " 'unable',\n",
       " 'weight',\n",
       " 'setup',\n",
       " 'camera',\n",
       " 'product',\n",
       " 'camera',\n",
       " 'purchase',\n",
       " 'translation',\n",
       " 'properly',\n",
       " 'online',\n",
       " 'video',\n",
       " 'set',\n",
       " 'waste',\n",
       " 'br',\n",
       " 'set',\n",
       " 'able',\n",
       " 'setup',\n",
       " 'camera',\n",
       " 'friendly',\n",
       " 'definitely',\n",
       " 'basic',\n",
       " 'user',\n",
       " 'bad',\n",
       " 'buy',\n",
       " 'camera',\n",
       " 'hardware',\n",
       " 'money',\n",
       " 'o',\n",
       " 'problem',\n",
       " 'product',\n",
       " 'support',\n",
       " 'money',\n",
       " 'waste',\n",
       " 'call',\n",
       " 'connection',\n",
       " 'maintain',\n",
       " 's',\n",
       " 'set',\n",
       " 'setup',\n",
       " 'support',\n",
       " 'idea',\n",
       " 'support',\n",
       " 'nice',\n",
       " 'awful',\n",
       " 'tech',\n",
       " 'camera',\n",
       " 't',\n",
       " 'replacement',\n",
       " 'problem',\n",
       " 't',\n",
       " 'm',\n",
       " 'telephone',\n",
       " 'set',\n",
       " 'shoot',\n",
       " 'spend',\n",
       " 'step',\n",
       " 'point',\n",
       " 'support',\n",
       " 'view',\n",
       " 'user',\n",
       " 'friendly',\n",
       " 'setup',\n",
       " 'great',\n",
       " 'area',\n",
       " 'monitor',\n",
       " 'product',\n",
       " 'remote',\n",
       " 'camera',\n",
       " 'take',\n",
       " 'phone',\n",
       " 'work',\n",
       " 'br',\n",
       " 'procedure',\n",
       " 'price',\n",
       " 'room',\n",
       " 'realize',\n",
       " 'capture',\n",
       " 'nt',\n",
       " 'sensitivity',\n",
       " 'right',\n",
       " 'product',\n",
       " 'pretty',\n",
       " 'motion',\n",
       " 'change',\n",
       " 'impossible',\n",
       " 'able',\n",
       " 'connect',\n",
       " 'difficult',\n",
       " 'instruction',\n",
       " 'use',\n",
       " 'odd',\n",
       " 'router',\n",
       " 'fine',\n",
       " 'release',\n",
       " 'wi',\n",
       " 'support',\n",
       " 'pain',\n",
       " 'maintain',\n",
       " 'mode',\n",
       " 'stop',\n",
       " 'week',\n",
       " 'work',\n",
       " 'useless',\n",
       " 'view',\n",
       " 'house',\n",
       " 'outside',\n",
       " 'stupid',\n",
       " 's',\n",
       " 'set',\n",
       " 'specific',\n",
       " 'spend',\n",
       " 'camera',\n",
       " 'support',\n",
       " 'setup',\n",
       " 'service',\n",
       " 'remote',\n",
       " 'name',\n",
       " 'work',\n",
       " 'john',\n",
       " 'help',\n",
       " 'wifi',\n",
       " 'work',\n",
       " 'disappoint',\n",
       " 'function',\n",
       " 'macbook',\n",
       " 'set',\n",
       " 'stay',\n",
       " 't',\n",
       " 'work',\n",
       " 'br',\n",
       " 't',\n",
       " 'win',\n",
       " 'computer',\n",
       " 'buy',\n",
       " 'brother',\n",
       " 'laptop',\n",
       " 'review',\n",
       " 'br',\n",
       " 'firmware',\n",
       " 'update',\n",
       " 'camera',\n",
       " 'w',\n",
       " 'version',\n",
       " 'fi',\n",
       " 'v',\n",
       " 'x',\n",
       " 'computer',\n",
       " 'friendly',\n",
       " 'interface',\n",
       " 'user',\n",
       " 'camera',\n",
       " 'existent',\n",
       " 'garbage',\n",
       " 'month',\n",
       " 'non',\n",
       " 'stop',\n",
       " 'support',\n",
       " 'work',\n",
       " 'camera',\n",
       " 'look',\n",
       " 'view',\n",
       " 'suck',\n",
       " 'overall',\n",
       " 'm',\n",
       " 'work',\n",
       " 'inside',\n",
       " 'house',\n",
       " 'video',\n",
       " 'complicated',\n",
       " 'setup',\n",
       " 'monitoring',\n",
       " 'allow',\n",
       " 'far',\n",
       " 'save',\n",
       " 'user',\n",
       " 'sound',\n",
       " 'disappointed',\n",
       " 'stop',\n",
       " 'sound',\n",
       " 'work',\n",
       " 'cry',\n",
       " 'night',\n",
       " 't',\n",
       " 'couldn',\n",
       " 'daughter',\n",
       " 'wifi',\n",
       " 'hrs',\n",
       " 'reset',\n",
       " 'security',\n",
       " 'long',\n",
       " 'hard',\n",
       " 'go',\n",
       " 'need',\n",
       " 'unit',\n",
       " 'aside',\n",
       " 'great',\n",
       " 'bit',\n",
       " 'install',\n",
       " 'pain',\n",
       " 'try',\n",
       " 'camera',\n",
       " 'power',\n",
       " 'problem',\n",
       " 'require',\n",
       " 'set',\n",
       " 'point',\n",
       " 'tilt',\n",
       " 'sequence',\n",
       " 'want',\n",
       " 'expect',\n",
       " 'tricky',\n",
       " 'shape',\n",
       " 'product',\n",
       " 'installation',\n",
       " 'arrive',\n",
       " 'use',\n",
       " 'tech',\n",
       " 'camera',\n",
       " 'camera',\n",
       " 'outside',\n",
       " 'set',\n",
       " 'spend',\n",
       " 'm',\n",
       " 't',\n",
       " 'revert',\n",
       " 'didn',\n",
       " 'crash',\n",
       " 't',\n",
       " 'work',\n",
       " 'couldn',\n",
       " 'set',\n",
       " 'wifi',\n",
       " 'tech',\n",
       " 'swann',\n",
       " 'camera',\n",
       " 'trust',\n",
       " 'cam',\n",
       " 'price',\n",
       " 'say',\n",
       " 'little',\n",
       " 'm',\n",
       " 'port',\n",
       " 'ip',\n",
       " 'remote',\n",
       " 'techie',\n",
       " 'connect',\n",
       " 'software',\n",
       " 'device',\n",
       " 'firmware',\n",
       " 'update',\n",
       " 'br',\n",
       " 'list',\n",
       " 'junk',\n",
       " 'look',\n",
       " 'difficult',\n",
       " 'product',\n",
       " 'set',\n",
       " 'br',\n",
       " 't',\n",
       " 's',\n",
       " 'hook',\n",
       " 'get',\n",
       " 'foscam',\n",
       " 'nt',\n",
       " 'trash',\n",
       " 'u',\n",
       " 'remote',\n",
       " 'setup',\n",
       " 'set',\n",
       " 'network',\n",
       " 'house',\n",
       " 'product',\n",
       " 'order',\n",
       " 'location',\n",
       " 'life',\n",
       " 'hour',\n",
       " 'camera',\n",
       " 'software',\n",
       " 'set',\n",
       " 'great',\n",
       " 'work',\n",
       " 've',\n",
       " 'little',\n",
       " 'browser',\n",
       " 'tricky',\n",
       " 'junk',\n",
       " 'wireless',\n",
       " 'work',\n",
       " 'year',\n",
       " 'br',\n",
       " 'buy',\n",
       " 'camera',\n",
       " 'cost',\n",
       " 'don',\n",
       " 'good',\n",
       " 'half',\n",
       " 'quality',\n",
       " 't',\n",
       " 'anymore',\n",
       " 'break',\n",
       " 'month',\n",
       " 'online',\n",
       " 'transmit',\n",
       " 'use',\n",
       " 'video',\n",
       " 'awesome',\n",
       " 'camera',\n",
       " 'damage',\n",
       " 'great',\n",
       " 'purchase',\n",
       " 'time',\n",
       " 'beware',\n",
       " 'byer',\n",
       " 'equipment',\n",
       " 'money',\n",
       " 'piece',\n",
       " 'simply',\n",
       " 'total',\n",
       " 'waste',\n",
       " 'work',\n",
       " 'camera',\n",
       " 'forewarn',\n",
       " 'difficult',\n",
       " 'set',\n",
       " 'second',\n",
       " 'rocam',\n",
       " 'truly',\n",
       " 'ready',\n",
       " 'ridiculously',\n",
       " 'get',\n",
       " 'camera',\n",
       " 'finally',\n",
       " 'think',\n",
       " 'router',\n",
       " 'purchase',\n",
       " 'realize',\n",
       " 'return',\n",
       " 'room',\n",
       " 'connect',\n",
       " 'm',\n",
       " 'read',\n",
       " 'remotely',\n",
       " 'access',\n",
       " 'matter',\n",
       " 'purchase',\n",
       " 'port',\n",
       " 'people',\n",
       " 'br',\n",
       " 'set',\n",
       " 'want',\n",
       " 'work',\n",
       " 'camera',\n",
       " 'read',\n",
       " 'wow',\n",
       " 'watch',\n",
       " 'port',\n",
       " 'product',\n",
       " 'value',\n",
       " 'try',\n",
       " 'tough',\n",
       " 'set',\n",
       " 'router',\n",
       " 'minimal',\n",
       " 'install',\n",
       " 'hour',\n",
       " 'fi',\n",
       " 'use',\n",
       " 't',\n",
       " 'micro',\n",
       " 'xxx',\n",
       " 'br',\n",
       " 'scandisk',\n",
       " 'amazon',\n",
       " 'disk',\n",
       " 'return',\n",
       " 'site',\n",
       " 'spend',\n",
       " 'system',\n",
       " 'try',\n",
       " 'simple',\n",
       " 'tutorial',\n",
       " 'wish',\n",
       " 'window',\n",
       " 'stop',\n",
       " 'work',\n",
       " 'camera',\n",
       " 'month',\n",
       " 'wifi',\n",
       " 'br',\n",
       " 'camera',\n",
       " 'password',\n",
       " 't',\n",
       " 'login',\n",
       " 'log',\n",
       " 'firmware',\n",
       " 'work',\n",
       " 'input',\n",
       " 'frame',\n",
       " 'rate',\n",
       " 'stream',\n",
       " 'poor',\n",
       " 'plugin',\n",
       " 'ispy',\n",
       " 'ie',\n",
       " 'fps',\n",
       " 'capture',\n",
       " 'awful',\n",
       " 'dropcam',\n",
       " 'product',\n",
       " 'spring',\n",
       " 'pretty',\n",
       " 'type',\n",
       " 'sure',\n",
       " 'simple',\n",
       " 'skill',\n",
       " 'start',\n",
       " 'step',\n",
       " 'suburb',\n",
       " 'serve',\n",
       " 'camera',\n",
       " 'set',\n",
       " 'like',\n",
       " 'br',\n",
       " 'pretty',\n",
       " 'twice',\n",
       " 'technical',\n",
       " 'support',\n",
       " 'give',\n",
       " 'application',\n",
       " 'kind',\n",
       " 'suck',\n",
       " 'work',\n",
       " 'setting',\n",
       " 'camera',\n",
       " 'figure',\n",
       " 'hour',\n",
       " 't',\n",
       " 'set',\n",
       " 'product',\n",
       " 'quick',\n",
       " 'easy',\n",
       " 'thing',\n",
       " 'well',\n",
       " 'camera',\n",
       " 'complicate',\n",
       " 'future',\n",
       " 'invent',\n",
       " 'offer',\n",
       " 'setup',\n",
       " 'use',\n",
       " 'br',\n",
       " 'use',\n",
       " 'love',\n",
       " 'work',\n",
       " 'need',\n",
       " 'like',\n",
       " 'basic',\n",
       " 'baby',\n",
       " 'app',\n",
       " 'help',\n",
       " 'installation',\n",
       " 'instruction',\n",
       " 'pain',\n",
       " 'picture',\n",
       " 'set',\n",
       " 'work',\n",
       " 'belkin',\n",
       " 'camera',\n",
       " 'compare',\n",
       " 'complicated',\n",
       " 'dlink',\n",
       " 'remote',\n",
       " 'set',\n",
       " 'viewing',\n",
       " 'way',\n",
       " 'product',\n",
       " 'app',\n",
       " 'setup',\n",
       " 'money',\n",
       " 'set',\n",
       " 'name',\n",
       " 'instruction',\n",
       " 'background',\n",
       " 'save',\n",
       " 'br',\n",
       " 't',\n",
       " 'camera',\n",
       " 's',\n",
       " 'nope',\n",
       " 'phone',\n",
       " 'product',\n",
       " 'order',\n",
       " 'outside',\n",
       " 'br',\n",
       " 'image',\n",
       " 'send',\n",
       " 'foscam',\n",
       " 'ftp',\n",
       " 'email',\n",
       " 'tenvis',\n",
       " 'model',\n",
       " 'way',\n",
       " 'br',\n",
       " 'lot',\n",
       " 'help',\n",
       " 'item',\n",
       " 'perfect',\n",
       " 'stop',\n",
       " 'dog',\n",
       " 'tube',\n",
       " 'setup',\n",
       " 'technical',\n",
       " 'try',\n",
       " 'work',\n",
       " 'router',\n",
       " 'save',\n",
       " 'skip',\n",
       " 'tech',\n",
       " 'port',\n",
       " 'waste',\n",
       " 'work',\n",
       " 'camera',\n",
       " 'day',\n",
       " 'receive',\n",
       " 'br',\n",
       " 'return',\n",
       " 'sense',\n",
       " 't',\n",
       " 'quit',\n",
       " 'glitchy',\n",
       " 'send',\n",
       " 'app',\n",
       " 'waste',\n",
       " 'try',\n",
       " 'money',\n",
       " 'camera',\n",
       " 'apparently',\n",
       " 'reprogram',\n",
       " 'security',\n",
       " 't',\n",
       " 'firmware',\n",
       " 'horrible',\n",
       " 'say',\n",
       " 'web',\n",
       " 'troubleshoot',\n",
       " 'tech',\n",
       " 'support',\n",
       " 'solve',\n",
       " 'keep',\n",
       " 't',\n",
       " 'camera',\n",
       " 'say',\n",
       " 'easy',\n",
       " 'product',\n",
       " 'hook',\n",
       " 'work',\n",
       " 'don',\n",
       " 'bring',\n",
       " 'br',\n",
       " 's',\n",
       " 'set',\n",
       " 'have',\n",
       " 'return',\n",
       " 'know',\n",
       " 'crazy',\n",
       " 'room',\n",
       " 'glorify',\n",
       " 'connect',\n",
       " 'complicated',\n",
       " 'month',\n",
       " 'piece',\n",
       " 'stop',\n",
       " 't',\n",
       " 'trash',\n",
       " 'great',\n",
       " 'point',\n",
       " 'led',\n",
       " 'camera',\n",
       " 'setup',\n",
       " 'zoneminder',\n",
       " 'power',\n",
       " 's',\n",
       " 'work',\n",
       " 'camera',\n",
       " 'setup',\n",
       " 'bad',\n",
       " 'great',\n",
       " 'instruction',\n",
       " 'suck',\n",
       " 'quality',\n",
       " 'pretty',\n",
       " 'firmware',\n",
       " 'work',\n",
       " 'stop',\n",
       " 'thing',\n",
       " 'speaker',\n",
       " 'use',\n",
       " 'unable',\n",
       " 'camera',\n",
       " 't',\n",
       " 'reason',\n",
       " 'thing',\n",
       " 'money',\n",
       " 'spend',\n",
       " 'record',\n",
       " 'extra',\n",
       " 'house',\n",
       " 'view',\n",
       " 'work',\n",
       " 'camera',\n",
       " 'computer',\n",
       " 'fine',\n",
       " 'need',\n",
       " 'software',\n",
       " 'useless',\n",
       " 'wirelessly',\n",
       " 'great',\n",
       " 'support',\n",
       " 'set',\n",
       " 'morgan',\n",
       " 'terry',\n",
       " 'customer',\n",
       " 'expect',\n",
       " 'recommend',\n",
       " 'br',\n",
       " 'experience',\n",
       " 'satisfactory',\n",
       " 'great',\n",
       " 'rate',\n",
       " 'interact',\n",
       " 'support',\n",
       " 'brandon',\n",
       " 'recommend',\n",
       " 'customer',\n",
       " 'need',\n",
       " 'work',\n",
       " 'sure',\n",
       " 'setup',\n",
       " 'old',\n",
       " 'year',\n",
       " 'complicated',\n",
       " 'camera',\n",
       " 'fine',\n",
       " 'app',\n",
       " 'bad',\n",
       " 'hardware',\n",
       " 'software',\n",
       " 'support',\n",
       " 'terrible',\n",
       " 'light',\n",
       " 'cam',\n",
       " 'come',\n",
       " 'gets',\n",
       " 'nd',\n",
       " 'pass',\n",
       " 'lens',\n",
       " 'nt',\n",
       " 'horrible',\n",
       " 'complicated',\n",
       " 'setup',\n",
       " 'stop',\n",
       " 'tenvis',\n",
       " 'review',\n",
       " 'router',\n",
       " 'specialty',\n",
       " 'rate',\n",
       " 'way',\n",
       " ...]"
      ]
     },
     "execution_count": 49,
     "metadata": {},
     "output_type": "execute_result"
    }
   ],
   "source": [
    "from functools import reduce\n",
    "\n",
    "final_list = reduce(lambda x,y :x+y ,negative_sentiments['Review Tags'].dropna().values.tolist())\n",
    "final_list"
   ]
  },
  {
   "cell_type": "code",
   "execution_count": 50,
   "metadata": {
    "id": "2-X39e1b_LO_"
   },
   "outputs": [],
   "source": [
    "dic = {}\n",
    "for i in final_list:\n",
    "    if i not in dic.keys():\n",
    "        dic[i] = 1\n",
    "    else:\n",
    "        dic[i] = dic[i] + 1"
   ]
  },
  {
   "cell_type": "code",
   "execution_count": 51,
   "metadata": {
    "colab": {
     "base_uri": "https://localhost:8080/"
    },
    "id": "XxYIqyIk_LPF",
    "outputId": "14e6d2de-89bc-4757-97a7-0ff1e063c5e7"
   },
   "outputs": [
    {
     "data": {
      "text/plain": [
       "camera      1003\n",
       "work         643\n",
       "set          486\n",
       "support      298\n",
       "great        266\n",
       "foscam       266\n",
       "setup        230\n",
       "product      186\n",
       "use          180\n",
       "time         168\n",
       "quality      158\n",
       "tech         148\n",
       "try          144\n",
       "software     138\n",
       "router       138\n",
       "wireless     136\n",
       "buy          130\n",
       "price        129\n",
       "return       124\n",
       "service      120\n",
       "dtype: int64"
      ]
     },
     "execution_count": 51,
     "metadata": {},
     "output_type": "execute_result"
    }
   ],
   "source": [
    "#pandas\n",
    "df = pd.Series(dic)\n",
    "df = df.drop(['t','s','br'])\n",
    "df = df.sort_values(ascending = False)\n",
    "df.head(20)"
   ]
  },
  {
   "cell_type": "code",
   "execution_count": 52,
   "metadata": {
    "id": "WuCPi-ks_LPQ"
   },
   "outputs": [],
   "source": [
    "#data visualization, matplotlib & seaborn\n",
    "import matplotlib.pyplot as plt\n",
    "import seaborn as sns"
   ]
  },
  {
   "cell_type": "code",
   "execution_count": null,
   "metadata": {
    "colab": {
     "base_uri": "https://localhost:8080/",
     "height": 573
    },
    "id": "HjYeWjfT_LPV",
    "outputId": "a96ebfd5-9da5-45ad-b5e0-203b13a8bf0c"
   },
   "outputs": [
    {
     "name": "stderr",
     "output_type": "stream",
     "text": [
      "/usr/local/lib/python3.7/dist-packages/seaborn/_decorators.py:43: FutureWarning: Pass the following variables as keyword args: x, y. From version 0.12, the only valid positional argument will be `data`, and passing other arguments without an explicit keyword will result in an error or misinterpretation.\n",
      "  FutureWarning\n"
     ]
    },
    {
     "data": {
      "image/png": "[encoded data removed]",
      "text/plain": [
       "<Figure size 720x576 with 1 Axes>"
      ]
     },
     "metadata": {
      "needs_background": "light",
      "tags": []
     },
     "output_type": "display_data"
    }
   ],
   "source": [
    "#data visualization, matplotlib & seaborn\n",
    "fig = plt.figure(figsize = (10,8))\n",
    "sns.barplot(df.head(20).index.values.tolist(), df.head(20).values.tolist())\n",
    "plt.xticks(rotation = 90)\n",
    "plt.show()"
   ]
  },
  {
   "cell_type": "code",
   "execution_count": null,
   "metadata": {
    "id": "AkWrls2t_LPa"
   },
   "outputs": [],
   "source": []
  },
  {
   "cell_type": "code",
   "execution_count": null,
   "metadata": {
    "id": "HevVL6pp_LPe"
   },
   "outputs": [],
   "source": [
    " "
   ]
  },
  {
   "cell_type": "code",
   "execution_count": null,
   "metadata": {
    "id": "gE5lNr4j_LPi"
   },
   "outputs": [],
   "source": []
  },
  {
   "cell_type": "code",
   "execution_count": null,
   "metadata": {
    "id": "nGjwB4hD_LPl"
   },
   "outputs": [],
   "source": []
  },
  {
   "cell_type": "code",
   "execution_count": null,
   "metadata": {
    "id": "SqL8ULel_LPp"
   },
   "outputs": [],
   "source": []
  },
  {
   "cell_type": "code",
   "execution_count": null,
   "metadata": {
    "id": "P5cKltPo_LPu"
   },
   "outputs": [],
   "source": []
  },
  {
   "cell_type": "code",
   "execution_count": null,
   "metadata": {
    "id": "mDPXUchm_LPz"
   },
   "outputs": [],
   "source": []
  },
  {
   "cell_type": "code",
   "execution_count": null,
   "metadata": {
    "id": "cflLELwp_LP3"
   },
   "outputs": [],
   "source": []
  },
  {
   "cell_type": "code",
   "execution_count": null,
   "metadata": {
    "id": "_o2ri8cr_LP6"
   },
   "outputs": [],
   "source": []
  },
  {
   "cell_type": "code",
   "execution_count": null,
   "metadata": {
    "id": "T9KdqXRF_LP9"
   },
   "outputs": [],
   "source": []
  },
  {
   "cell_type": "code",
   "execution_count": null,
   "metadata": {
    "id": "k_cQ9Dw8_LQB"
   },
   "outputs": [],
   "source": []
  },
  {
   "cell_type": "code",
   "execution_count": null,
   "metadata": {
    "id": "epDGospQ_LQF"
   },
   "outputs": [],
   "source": []
  },
  {
   "cell_type": "code",
   "execution_count": null,
   "metadata": {
    "id": "oyqEse9N_LQJ"
   },
   "outputs": [],
   "source": []
  },
  {
   "cell_type": "code",
   "execution_count": null,
   "metadata": {
    "id": "JaAcqn4L_LQM"
   },
   "outputs": [],
   "source": []
  },
  {
   "cell_type": "code",
   "execution_count": null,
   "metadata": {
    "id": "cJhxNRSu_LQP"
   },
   "outputs": [],
   "source": []
  },
  {
   "cell_type": "code",
   "execution_count": null,
   "metadata": {
    "id": "Ozm1IGNs_LQS"
   },
   "outputs": [],
   "source": []
  },
  {
   "cell_type": "code",
   "execution_count": null,
   "metadata": {
    "id": "0Bd8Sw3x_LQW"
   },
   "outputs": [],
   "source": []
  },
  {
   "cell_type": "code",
   "execution_count": null,
   "metadata": {
    "id": "YwAoD120_LQZ"
   },
   "outputs": [],
   "source": []
  },
  {
   "cell_type": "code",
   "execution_count": null,
   "metadata": {
    "id": "0HZUh-eJ_LQd"
   },
   "outputs": [],
   "source": []
  },
  {
   "cell_type": "code",
   "execution_count": null,
   "metadata": {
    "id": "TXLW5XrP_LQg"
   },
   "outputs": [],
   "source": []
  },
  {
   "cell_type": "code",
   "execution_count": null,
   "metadata": {
    "id": "aa-tJFlC_LQj"
   },
   "outputs": [],
   "source": []
  },
  {
   "cell_type": "code",
   "execution_count": null,
   "metadata": {
    "id": "Hx2Jusmo_LQo"
   },
   "outputs": [],
   "source": []
  },
  {
   "cell_type": "code",
   "execution_count": null,
   "metadata": {
    "id": "vchO689E_LQv"
   },
   "outputs": [],
   "source": []
  },
  {
   "cell_type": "code",
   "execution_count": null,
   "metadata": {
    "id": "cpe7853O_LQz"
   },
   "outputs": [],
   "source": []
  },
  {
   "cell_type": "code",
   "execution_count": null,
   "metadata": {
    "id": "yql8Pu2__LQ2"
   },
   "outputs": [],
   "source": []
  },
  {
   "cell_type": "code",
   "execution_count": null,
   "metadata": {
    "id": "VFjpWIHN_LRB"
   },
   "outputs": [],
   "source": []
  },
  {
   "cell_type": "code",
   "execution_count": null,
   "metadata": {
    "id": "FgF3aa6B_LRI"
   },
   "outputs": [],
   "source": []
  },
  {
   "cell_type": "code",
   "execution_count": null,
   "metadata": {
    "id": "6b8687Z__LRN"
   },
   "outputs": [],
   "source": []
  },
  {
   "cell_type": "code",
   "execution_count": null,
   "metadata": {
    "id": "A3ZMUTag_LRR"
   },
   "outputs": [],
   "source": []
  },
  {
   "cell_type": "code",
   "execution_count": null,
   "metadata": {
    "id": "ZiqirI-1_LRU"
   },
   "outputs": [],
   "source": []
  },
  {
   "cell_type": "code",
   "execution_count": null,
   "metadata": {
    "id": "JuIZGvMJ_LRb"
   },
   "outputs": [],
   "source": []
  },
  {
   "cell_type": "code",
   "execution_count": null,
   "metadata": {
    "id": "sTYO442F_LRj"
   },
   "outputs": [],
   "source": []
  },
  {
   "cell_type": "code",
   "execution_count": null,
   "metadata": {
    "id": "DRkAjGhK_LRp"
   },
   "outputs": [],
   "source": []
  },
  {
   "cell_type": "code",
   "execution_count": null,
   "metadata": {
    "id": "-AdBr_9m_LRy"
   },
   "outputs": [],
   "source": []
  },
  {
   "cell_type": "code",
   "execution_count": null,
   "metadata": {
    "id": "NJ2b_x_7_LR6"
   },
   "outputs": [],
   "source": []
  },
  {
   "cell_type": "code",
   "execution_count": null,
   "metadata": {
    "id": "Ue28O4hk_LSA"
   },
   "outputs": [],
   "source": []
  },
  {
   "cell_type": "code",
   "execution_count": null,
   "metadata": {
    "id": "hynBi4mP_LSL"
   },
   "outputs": [],
   "source": []
  },
  {
   "cell_type": "code",
   "execution_count": null,
   "metadata": {
    "id": "VLWYojK4_LSe",
    "outputId": "78613e11-7377-4a75-bf7b-ed6f816f9596"
   },
   "outputs": [
    {
     "data": {
      "text/html": [
       "<div>\n",
       "<style scoped>\n",
       "    .dataframe tbody tr th:only-of-type {\n",
       "        vertical-align: middle;\n",
       "    }\n",
       "\n",
       "    .dataframe tbody tr th {\n",
       "        vertical-align: top;\n",
       "    }\n",
       "\n",
       "    .dataframe thead th {\n",
       "        text-align: right;\n",
       "    }\n",
       "</style>\n",
       "<table border=\"1\" class=\"dataframe\">\n",
       "  <thead>\n",
       "    <tr style=\"text-align: right;\">\n",
       "      <th></th>\n",
       "      <th>star_rating</th>\n",
       "      <th>review_headline</th>\n",
       "      <th>review_body</th>\n",
       "    </tr>\n",
       "  </thead>\n",
       "  <tbody>\n",
       "    <tr>\n",
       "      <th>0</th>\n",
       "      <td>0</td>\n",
       "      <td>Four Stars</td>\n",
       "      <td>Very good quality. So far so good.</td>\n",
       "    </tr>\n",
       "    <tr>\n",
       "      <th>3</th>\n",
       "      <td>0</td>\n",
       "      <td>they work</td>\n",
       "      <td>They charge my wife's phone</td>\n",
       "    </tr>\n",
       "    <tr>\n",
       "      <th>6</th>\n",
       "      <td>0</td>\n",
       "      <td>One Star</td>\n",
       "      <td>It broke less than a month. Don't buy them.</td>\n",
       "    </tr>\n",
       "    <tr>\n",
       "      <th>9</th>\n",
       "      <td>0</td>\n",
       "      <td>Had this for almost three months and it starte...</td>\n",
       "      <td>Had this for almost three months and it starte...</td>\n",
       "    </tr>\n",
       "    <tr>\n",
       "      <th>15</th>\n",
       "      <td>0</td>\n",
       "      <td>Three Stars</td>\n",
       "      <td>Quality is ok, but the cables tend to fray aro...</td>\n",
       "    </tr>\n",
       "  </tbody>\n",
       "</table>\n",
       "</div>"
      ],
      "text/plain": [
       "    star_rating                                    review_headline  \\\n",
       "0             0                                         Four Stars   \n",
       "3             0                                          they work   \n",
       "6             0                                           One Star   \n",
       "9             0  Had this for almost three months and it starte...   \n",
       "15            0                                        Three Stars   \n",
       "\n",
       "                                          review_body  \n",
       "0                  Very good quality. So far so good.  \n",
       "3                         They charge my wife's phone  \n",
       "6         It broke less than a month. Don't buy them.  \n",
       "9   Had this for almost three months and it starte...  \n",
       "15  Quality is ok, but the cables tend to fray aro...  "
      ]
     },
     "execution_count": 6,
     "metadata": {
      "tags": []
     },
     "output_type": "execute_result"
    }
   ],
   "source": [
    "negative_sentiments = negative_sentiments[['star_rating','review_headline','review_body']]\n",
    "negative_sentiments.head()"
   ]
  },
  {
   "cell_type": "code",
   "execution_count": null,
   "metadata": {
    "id": "qIcCDP-7_LSi"
   },
   "outputs": [],
   "source": [
    "import warnings\n",
    "warnings.filterwarnings(\"ignore\")\n",
    "\n",
    "\n",
    "import spacy\n",
    "nlp = spacy.load('en_core_web_sm')\n",
    "\n",
    "\n",
    "import gensim\n",
    "\n",
    "import pandas as pd\n",
    "from gensim import corpora\n",
    "\n",
    "import re"
   ]
  },
  {
   "cell_type": "code",
   "execution_count": null,
   "metadata": {
    "id": "wKEgBcLX_LSs"
   },
   "outputs": [],
   "source": []
  }
 ],
 "metadata": {
  "colab": {
   "collapsed_sections": [],
   "name": "Topic Modelling.ipynb",
   "provenance": []
  },
  "kernelspec": {
   "display_name": "Python 3",
   "language": "python",
   "name": "python3"
  },
  "language_info": {
   "codemirror_mode": {
    "name": "ipython",
    "version": 3
   },
   "file_extension": ".py",
   "mimetype": "text/x-python",
   "name": "python",
   "nbconvert_exporter": "python",
   "pygments_lexer": "ipython3",
   "version": "3.8.8"
  }
 },
 "nbformat": 4,
 "nbformat_minor": 1
}
